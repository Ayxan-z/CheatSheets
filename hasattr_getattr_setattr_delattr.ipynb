{
 "cells": [
  {
   "cell_type": "code",
   "execution_count": null,
   "metadata": {},
   "outputs": [],
   "source": [
    "class TestClass:\n",
    "    x = 'dsjhh'\n",
    "    def __init__(self):\n",
    "        self.d = 3\n",
    "\n",
    "    def testDef():\n",
    "        return 1\n",
    "\n",
    "test = TestClass()"
   ]
  },
  {
   "cell_type": "code",
   "execution_count": null,
   "metadata": {},
   "outputs": [],
   "source": [
    "print(hasattr(test, 'x'))\n",
    "print(hasattr(test, 'd'))\n",
    "print(hasattr(test, 'testDef'))\n",
    "print(hasattr(TestClass, 'x'))\n",
    "print(hasattr(TestClass, 'd'))\n",
    "print(hasattr(TestClass, 'testDef'))"
   ]
  },
  {
   "cell_type": "code",
   "execution_count": null,
   "metadata": {},
   "outputs": [],
   "source": [
    "print(getattr(test, 'x', 'default'))\n",
    "print(getattr(test, 'd', 'default'))\n",
    "print(getattr(test, 'testDef', 'default'))\n",
    "print(getattr(TestClass, 'x', 'default'))\n",
    "print(getattr(TestClass, 'd', 'default'))\n",
    "print(getattr(TestClass, 'testDef', 'default'))"
   ]
  },
  {
   "cell_type": "code",
   "execution_count": null,
   "metadata": {},
   "outputs": [],
   "source": [
    "class TestClass:\n",
    "    x = 'dsjhh'\n",
    "    def __init__(self):\n",
    "        self.d = 3\n",
    "\n",
    "    def testDef():\n",
    "        return 1\n",
    "\n",
    "test = TestClass()"
   ]
  },
  {
   "cell_type": "code",
   "execution_count": null,
   "metadata": {},
   "outputs": [],
   "source": [
    "setattr(TestClass, 'z', 12)\n",
    "print(TestClass.z)\n",
    "print(test.z)"
   ]
  },
  {
   "cell_type": "code",
   "execution_count": null,
   "metadata": {},
   "outputs": [],
   "source": [
    "setattr(test, 'z', 12)\n",
    "print(test.z)\n",
    "print(TestClass.z)"
   ]
  },
  {
   "cell_type": "code",
   "execution_count": null,
   "metadata": {},
   "outputs": [],
   "source": [
    "delattr(TestClass, 'x')\n",
    "print(test.x)\n",
    "print(TestClass.x)"
   ]
  },
  {
   "cell_type": "code",
   "execution_count": null,
   "metadata": {},
   "outputs": [],
   "source": [
    "delattr(test, 'd')\n",
    "print(test.d)"
   ]
  },
  {
   "cell_type": "code",
   "execution_count": null,
   "metadata": {},
   "outputs": [],
   "source": []
  }
 ],
 "metadata": {
  "kernelspec": {
   "display_name": "Python 3.10.3 64-bit",
   "language": "python",
   "name": "python3"
  },
  "language_info": {
   "codemirror_mode": {
    "name": "ipython",
    "version": 3
   },
   "file_extension": ".py",
   "mimetype": "text/x-python",
   "name": "python",
   "nbconvert_exporter": "python",
   "pygments_lexer": "ipython3",
   "version": "3.10.3"
  },
  "orig_nbformat": 4,
  "vscode": {
   "interpreter": {
    "hash": "e8c5b4b062ec146843a4e9257c4b55bed920629d075dd594dd6a143d7c4ec2fe"
   }
  }
 },
 "nbformat": 4,
 "nbformat_minor": 2
}
